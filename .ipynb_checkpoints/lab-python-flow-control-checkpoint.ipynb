{
 "cells": [
  {
   "cell_type": "markdown",
   "id": "d3bfc191-8885-42ee-b0a0-bbab867c6f9f",
   "metadata": {
    "tags": []
   },
   "source": [
    "# Lab | Flow Control"
   ]
  },
  {
   "cell_type": "markdown",
   "id": "3851fcd1-cf98-4653-9c89-e003b7ec9400",
   "metadata": {},
   "source": [
    "## Exercise: Managing Customer Orders Optimized\n",
    "\n",
    "In the last lab, you were starting an online store that sells various products. To ensure smooth operations, you developed a program that manages customer orders and inventory.\n",
    "\n",
    "You did so without using flow control. Let's go a step further and improve this code.\n",
    "\n",
    "Follow the steps below to complete the exercise:\n",
    "\n",
    "1. Look at your code from the lab data structures, and improve repeated code with loops.\n",
    "\n",
    "2. Instead of asking the user to input the name of three products that a customer wants to order, do the following:\n",
    "    \n",
    "    a. Prompt the user to enter the name of a product that a customer wants to order.\n",
    "    \n",
    "    b. Add the product name to the \"customer_orders\" set.\n",
    "    \n",
    "    c. Ask the user if they want to add another product (yes/no).\n",
    "    \n",
    "    d. Continue the loop until the user does not want to add another product.\n",
    "\n",
    "3. Instead of updating the inventory by subtracting 1 from the quantity of each product, only do it for  the products that were ordered (those in \"customer_orders\")."
   ]
  },
  {
   "cell_type": "code",
   "execution_count": 32,
   "id": "855e6709",
   "metadata": {},
   "outputs": [],
   "source": [
    "# Create a list containing the products\n",
    "products = [\"t-shirt\", \"mug\", \"hat\", \"book\", \"keychain\"]"
   ]
  },
  {
   "cell_type": "code",
   "execution_count": 33,
   "id": "ec63249f",
   "metadata": {},
   "outputs": [],
   "source": [
    "# Create an empty dictionary\n",
    "inventory = {}"
   ]
  },
  {
   "cell_type": "code",
   "execution_count": 60,
   "id": "6471b79e",
   "metadata": {},
   "outputs": [
    {
     "name": "stdout",
     "output_type": "stream",
     "text": [
      "Enter the quantity of t-shirt:5\n",
      "Enter the quantity of mug:10\n",
      "Enter the quantity of hat:8\n",
      "Enter the quantity of book:11\n",
      "Enter the quantity of keychain:6\n",
      "{'t-shirt': 5, 'mug': 10, 'hat': 8, 'book': 11, 'keychain': 6}\n"
     ]
    }
   ],
   "source": [
    "# Ask the user to input the quantity of each product and load it in the inventory\n",
    "for p in products:\n",
    "    inventory[p] = int(input(\"Enter the quantity of \"+p + \":\"))\n",
    "print (inventory)"
   ]
  },
  {
   "cell_type": "code",
   "execution_count": 35,
   "id": "143f75d5",
   "metadata": {},
   "outputs": [],
   "source": [
    "# Create an empty set\n",
    "customer_orders = set()"
   ]
  },
  {
   "cell_type": "code",
   "execution_count": 52,
   "id": "c386432a",
   "metadata": {},
   "outputs": [
    {
     "name": "stdout",
     "output_type": "stream",
     "text": [
      "Select the product you want to order: t-shirt\n",
      "You've ordered a t-shirt\n",
      "Do you want to order anything else? Yes/No: Yes\n",
      "Select the product you want to order: car\n",
      "The product you selected is not available.\n",
      "Do you want to order anything else? Yes/No: Yes\n",
      "Select the product you want to order: book\n",
      "You've ordered a book\n",
      "Do you want to order anything else? Yes/No: No\n",
      "Your order was succesful. Thank you.\n"
     ]
    }
   ],
   "source": [
    "# Ask the user to order a product and keep asking if he/she wants anything else until he/she says no\n",
    "product_chosen = input(\"Select the product you want to order: \")\n",
    "if product_chosen in products:\n",
    "    print (\"You've ordered a\", product_chosen)\n",
    "else:\n",
    "    print (\"The product you selected is not available.\")\n",
    "    \n",
    "decision = input(\"Do you want to order anything else? Yes/No: \")\n",
    "\n",
    "customer_orders.add(product_chosen)\n",
    "\n",
    "decision = 'Yes'\n",
    "while decision == 'Yes':\n",
    "    product_chosen = input(\"Select the product you want to order: \")\n",
    "    if product_chosen in products:\n",
    "        print (\"You've ordered a\", product_chosen)\n",
    "    else:\n",
    "        print (\"The product you selected is not available.\")\n",
    "    decision = input(\"Do you want to order anything else? Yes/No: \")\n",
    "\n",
    "print (\"Your order was succesful. Thank you.\")"
   ]
  },
  {
   "cell_type": "code",
   "execution_count": 53,
   "id": "403aa031",
   "metadata": {},
   "outputs": [
    {
     "name": "stdout",
     "output_type": "stream",
     "text": [
      "You've ordered these products: {'t-shirt', 'book'}\n"
     ]
    }
   ],
   "source": [
    "# Show ordered products\n",
    "print (\"You've ordered these products:\", customer_orders)"
   ]
  },
  {
   "cell_type": "code",
   "execution_count": 54,
   "id": "29a9d6ec",
   "metadata": {},
   "outputs": [
    {
     "name": "stdout",
     "output_type": "stream",
     "text": [
      "The total number of products ordered is 2\n"
     ]
    }
   ],
   "source": [
    "# Check total number of products ordered\n",
    "total_products_ordered = len(customer_orders)\n",
    "print (\"The total number of products ordered is\", total_products_ordered)"
   ]
  },
  {
   "cell_type": "code",
   "execution_count": 55,
   "id": "0a76b273",
   "metadata": {},
   "outputs": [
    {
     "name": "stdout",
     "output_type": "stream",
     "text": [
      "The total number of products available is 5\n"
     ]
    }
   ],
   "source": [
    "# Calculate number of total available products\n",
    "available_products = len(products)\n",
    "print (\"The total number of products available is\", available_products)"
   ]
  },
  {
   "cell_type": "code",
   "execution_count": 56,
   "id": "476bd5b6",
   "metadata": {},
   "outputs": [
    {
     "name": "stdout",
     "output_type": "stream",
     "text": [
      "The percentage of products ordered is 40.0 %\n"
     ]
    }
   ],
   "source": [
    "# Check percentage of products ordered compared to the total available products\n",
    "percentage_products_ordered = 2*100/5\n",
    "print(\"The percentage of products ordered is\", percentage_products_ordered, \"%\")"
   ]
  },
  {
   "cell_type": "code",
   "execution_count": 57,
   "id": "41d4c5a8",
   "metadata": {},
   "outputs": [],
   "source": [
    "# Store the results in a tuple\n",
    "order_status = (total_products_ordered, percentage_products_ordered)"
   ]
  },
  {
   "cell_type": "code",
   "execution_count": 58,
   "id": "9b132d64",
   "metadata": {},
   "outputs": [
    {
     "name": "stdout",
     "output_type": "stream",
     "text": [
      "Order Statistics: \n",
      "Total Products Ordered: 2\n",
      "Percentage of Products Ordered: 40.0%\n"
     ]
    }
   ],
   "source": [
    "# Print the order statistics\n",
    "print (\"Order Statistics: \")\n",
    "print (f\"Total Products Ordered: {order_status[0]}\")\n",
    "print (f\"Percentage of Products Ordered: {order_status[1]}%\")"
   ]
  },
  {
   "cell_type": "code",
   "execution_count": 59,
   "id": "7200991a",
   "metadata": {},
   "outputs": [
    {
     "name": "stdout",
     "output_type": "stream",
     "text": [
      "{'t-shirt': 4, 'mug': 10, 'hat': 8, 'book': 10, 'keychain': 6}\n"
     ]
    }
   ],
   "source": [
    "# Update the inventory\n",
    "for p in customer_orders:\n",
    "    inventory[p] = inventory[p] -1\n",
    "print (inventory)"
   ]
  }
 ],
 "metadata": {
  "kernelspec": {
   "display_name": "Python 3 (ipykernel)",
   "language": "python",
   "name": "python3"
  },
  "language_info": {
   "codemirror_mode": {
    "name": "ipython",
    "version": 3
   },
   "file_extension": ".py",
   "mimetype": "text/x-python",
   "name": "python",
   "nbconvert_exporter": "python",
   "pygments_lexer": "ipython3",
   "version": "3.11.5"
  }
 },
 "nbformat": 4,
 "nbformat_minor": 5
}
